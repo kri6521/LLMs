{
  "nbformat": 4,
  "nbformat_minor": 0,
  "metadata": {
    "colab": {
      "provenance": []
    },
    "kernelspec": {
      "name": "python3",
      "display_name": "Python 3"
    },
    "language_info": {
      "name": "python"
    }
  },
  "cells": [
    {
      "cell_type": "markdown",
      "source": [
        "BERT Tasks\n",
        "- Masked LM\n",
        "- Next sentence prediction (eg of text classification)"
      ],
      "metadata": {
        "id": "n9Jzq_eXzEdK"
      }
    },
    {
      "cell_type": "code",
      "source": [
        "!pip install datasets\n",
        "!pip install evaluate"
      ],
      "metadata": {
        "colab": {
          "base_uri": "https://localhost:8080/"
        },
        "id": "UUJYkE3swMRR",
        "outputId": "25d98a3f-17b1-4245-c550-6957c6614375"
      },
      "execution_count": 4,
      "outputs": [
        {
          "output_type": "stream",
          "name": "stdout",
          "text": [
            "Requirement already satisfied: datasets in /usr/local/lib/python3.11/dist-packages (3.3.2)\n",
            "Requirement already satisfied: filelock in /usr/local/lib/python3.11/dist-packages (from datasets) (3.17.0)\n",
            "Requirement already satisfied: numpy>=1.17 in /usr/local/lib/python3.11/dist-packages (from datasets) (1.26.4)\n",
            "Requirement already satisfied: pyarrow>=15.0.0 in /usr/local/lib/python3.11/dist-packages (from datasets) (18.1.0)\n",
            "Requirement already satisfied: dill<0.3.9,>=0.3.0 in /usr/local/lib/python3.11/dist-packages (from datasets) (0.3.8)\n",
            "Requirement already satisfied: pandas in /usr/local/lib/python3.11/dist-packages (from datasets) (2.2.2)\n",
            "Requirement already satisfied: requests>=2.32.2 in /usr/local/lib/python3.11/dist-packages (from datasets) (2.32.3)\n",
            "Requirement already satisfied: tqdm>=4.66.3 in /usr/local/lib/python3.11/dist-packages (from datasets) (4.67.1)\n",
            "Requirement already satisfied: xxhash in /usr/local/lib/python3.11/dist-packages (from datasets) (3.5.0)\n",
            "Requirement already satisfied: multiprocess<0.70.17 in /usr/local/lib/python3.11/dist-packages (from datasets) (0.70.16)\n",
            "Requirement already satisfied: fsspec<=2024.12.0,>=2023.1.0 in /usr/local/lib/python3.11/dist-packages (from fsspec[http]<=2024.12.0,>=2023.1.0->datasets) (2024.10.0)\n",
            "Requirement already satisfied: aiohttp in /usr/local/lib/python3.11/dist-packages (from datasets) (3.11.13)\n",
            "Requirement already satisfied: huggingface-hub>=0.24.0 in /usr/local/lib/python3.11/dist-packages (from datasets) (0.28.1)\n",
            "Requirement already satisfied: packaging in /usr/local/lib/python3.11/dist-packages (from datasets) (24.2)\n",
            "Requirement already satisfied: pyyaml>=5.1 in /usr/local/lib/python3.11/dist-packages (from datasets) (6.0.2)\n",
            "Requirement already satisfied: aiohappyeyeballs>=2.3.0 in /usr/local/lib/python3.11/dist-packages (from aiohttp->datasets) (2.5.0)\n",
            "Requirement already satisfied: aiosignal>=1.1.2 in /usr/local/lib/python3.11/dist-packages (from aiohttp->datasets) (1.3.2)\n",
            "Requirement already satisfied: attrs>=17.3.0 in /usr/local/lib/python3.11/dist-packages (from aiohttp->datasets) (25.1.0)\n",
            "Requirement already satisfied: frozenlist>=1.1.1 in /usr/local/lib/python3.11/dist-packages (from aiohttp->datasets) (1.5.0)\n",
            "Requirement already satisfied: multidict<7.0,>=4.5 in /usr/local/lib/python3.11/dist-packages (from aiohttp->datasets) (6.1.0)\n",
            "Requirement already satisfied: propcache>=0.2.0 in /usr/local/lib/python3.11/dist-packages (from aiohttp->datasets) (0.3.0)\n",
            "Requirement already satisfied: yarl<2.0,>=1.17.0 in /usr/local/lib/python3.11/dist-packages (from aiohttp->datasets) (1.18.3)\n",
            "Requirement already satisfied: typing-extensions>=3.7.4.3 in /usr/local/lib/python3.11/dist-packages (from huggingface-hub>=0.24.0->datasets) (4.12.2)\n",
            "Requirement already satisfied: charset-normalizer<4,>=2 in /usr/local/lib/python3.11/dist-packages (from requests>=2.32.2->datasets) (3.4.1)\n",
            "Requirement already satisfied: idna<4,>=2.5 in /usr/local/lib/python3.11/dist-packages (from requests>=2.32.2->datasets) (3.10)\n",
            "Requirement already satisfied: urllib3<3,>=1.21.1 in /usr/local/lib/python3.11/dist-packages (from requests>=2.32.2->datasets) (2.3.0)\n",
            "Requirement already satisfied: certifi>=2017.4.17 in /usr/local/lib/python3.11/dist-packages (from requests>=2.32.2->datasets) (2025.1.31)\n",
            "Requirement already satisfied: python-dateutil>=2.8.2 in /usr/local/lib/python3.11/dist-packages (from pandas->datasets) (2.8.2)\n",
            "Requirement already satisfied: pytz>=2020.1 in /usr/local/lib/python3.11/dist-packages (from pandas->datasets) (2025.1)\n",
            "Requirement already satisfied: tzdata>=2022.7 in /usr/local/lib/python3.11/dist-packages (from pandas->datasets) (2025.1)\n",
            "Requirement already satisfied: six>=1.5 in /usr/local/lib/python3.11/dist-packages (from python-dateutil>=2.8.2->pandas->datasets) (1.17.0)\n",
            "Collecting evaluate\n",
            "  Downloading evaluate-0.4.3-py3-none-any.whl.metadata (9.2 kB)\n",
            "Requirement already satisfied: datasets>=2.0.0 in /usr/local/lib/python3.11/dist-packages (from evaluate) (3.3.2)\n",
            "Requirement already satisfied: numpy>=1.17 in /usr/local/lib/python3.11/dist-packages (from evaluate) (1.26.4)\n",
            "Requirement already satisfied: dill in /usr/local/lib/python3.11/dist-packages (from evaluate) (0.3.8)\n",
            "Requirement already satisfied: pandas in /usr/local/lib/python3.11/dist-packages (from evaluate) (2.2.2)\n",
            "Requirement already satisfied: requests>=2.19.0 in /usr/local/lib/python3.11/dist-packages (from evaluate) (2.32.3)\n",
            "Requirement already satisfied: tqdm>=4.62.1 in /usr/local/lib/python3.11/dist-packages (from evaluate) (4.67.1)\n",
            "Requirement already satisfied: xxhash in /usr/local/lib/python3.11/dist-packages (from evaluate) (3.5.0)\n",
            "Requirement already satisfied: multiprocess in /usr/local/lib/python3.11/dist-packages (from evaluate) (0.70.16)\n",
            "Requirement already satisfied: fsspec>=2021.05.0 in /usr/local/lib/python3.11/dist-packages (from fsspec[http]>=2021.05.0->evaluate) (2024.10.0)\n",
            "Requirement already satisfied: huggingface-hub>=0.7.0 in /usr/local/lib/python3.11/dist-packages (from evaluate) (0.28.1)\n",
            "Requirement already satisfied: packaging in /usr/local/lib/python3.11/dist-packages (from evaluate) (24.2)\n",
            "Requirement already satisfied: filelock in /usr/local/lib/python3.11/dist-packages (from datasets>=2.0.0->evaluate) (3.17.0)\n",
            "Requirement already satisfied: pyarrow>=15.0.0 in /usr/local/lib/python3.11/dist-packages (from datasets>=2.0.0->evaluate) (18.1.0)\n",
            "Requirement already satisfied: aiohttp in /usr/local/lib/python3.11/dist-packages (from datasets>=2.0.0->evaluate) (3.11.13)\n",
            "Requirement already satisfied: pyyaml>=5.1 in /usr/local/lib/python3.11/dist-packages (from datasets>=2.0.0->evaluate) (6.0.2)\n",
            "Requirement already satisfied: typing-extensions>=3.7.4.3 in /usr/local/lib/python3.11/dist-packages (from huggingface-hub>=0.7.0->evaluate) (4.12.2)\n",
            "Requirement already satisfied: charset-normalizer<4,>=2 in /usr/local/lib/python3.11/dist-packages (from requests>=2.19.0->evaluate) (3.4.1)\n",
            "Requirement already satisfied: idna<4,>=2.5 in /usr/local/lib/python3.11/dist-packages (from requests>=2.19.0->evaluate) (3.10)\n",
            "Requirement already satisfied: urllib3<3,>=1.21.1 in /usr/local/lib/python3.11/dist-packages (from requests>=2.19.0->evaluate) (2.3.0)\n",
            "Requirement already satisfied: certifi>=2017.4.17 in /usr/local/lib/python3.11/dist-packages (from requests>=2.19.0->evaluate) (2025.1.31)\n",
            "Requirement already satisfied: python-dateutil>=2.8.2 in /usr/local/lib/python3.11/dist-packages (from pandas->evaluate) (2.8.2)\n",
            "Requirement already satisfied: pytz>=2020.1 in /usr/local/lib/python3.11/dist-packages (from pandas->evaluate) (2025.1)\n",
            "Requirement already satisfied: tzdata>=2022.7 in /usr/local/lib/python3.11/dist-packages (from pandas->evaluate) (2025.1)\n",
            "Requirement already satisfied: aiohappyeyeballs>=2.3.0 in /usr/local/lib/python3.11/dist-packages (from aiohttp->datasets>=2.0.0->evaluate) (2.5.0)\n",
            "Requirement already satisfied: aiosignal>=1.1.2 in /usr/local/lib/python3.11/dist-packages (from aiohttp->datasets>=2.0.0->evaluate) (1.3.2)\n",
            "Requirement already satisfied: attrs>=17.3.0 in /usr/local/lib/python3.11/dist-packages (from aiohttp->datasets>=2.0.0->evaluate) (25.1.0)\n",
            "Requirement already satisfied: frozenlist>=1.1.1 in /usr/local/lib/python3.11/dist-packages (from aiohttp->datasets>=2.0.0->evaluate) (1.5.0)\n",
            "Requirement already satisfied: multidict<7.0,>=4.5 in /usr/local/lib/python3.11/dist-packages (from aiohttp->datasets>=2.0.0->evaluate) (6.1.0)\n",
            "Requirement already satisfied: propcache>=0.2.0 in /usr/local/lib/python3.11/dist-packages (from aiohttp->datasets>=2.0.0->evaluate) (0.3.0)\n",
            "Requirement already satisfied: yarl<2.0,>=1.17.0 in /usr/local/lib/python3.11/dist-packages (from aiohttp->datasets>=2.0.0->evaluate) (1.18.3)\n",
            "Requirement already satisfied: six>=1.5 in /usr/local/lib/python3.11/dist-packages (from python-dateutil>=2.8.2->pandas->evaluate) (1.17.0)\n",
            "Downloading evaluate-0.4.3-py3-none-any.whl (84 kB)\n",
            "\u001b[2K   \u001b[90m━━━━━━━━━━━━━━━━━━━━━━━━━━━━━━━━━━━━━━━━\u001b[0m \u001b[32m84.0/84.0 kB\u001b[0m \u001b[31m2.0 MB/s\u001b[0m eta \u001b[36m0:00:00\u001b[0m\n",
            "\u001b[?25hInstalling collected packages: evaluate\n",
            "Successfully installed evaluate-0.4.3\n"
          ]
        }
      ]
    },
    {
      "cell_type": "code",
      "execution_count": 7,
      "metadata": {
        "id": "exptko5gzCKi"
      },
      "outputs": [],
      "source": [
        "from datasets import DatasetDict, Dataset, load_dataset\n",
        "from transformers import AutoTokenizer, AutoModelForSequenceClassification, TrainingArguments, Trainer\n",
        "import numpy as np\n",
        "import evaluate\n",
        "from transformers import DataCollatorWithPadding"
      ]
    },
    {
      "cell_type": "code",
      "source": [
        "dataset_dict = load_dataset(\"kri6521/dataset\")"
      ],
      "metadata": {
        "colab": {
          "base_uri": "https://localhost:8080/",
          "height": 417,
          "referenced_widgets": [
            "7eb21a3af04242569dbf301559415d5f",
            "6a64f43cfe4149b09fc59f6aa4e6e50b",
            "d86e1427dca9419088807b422d1a995b",
            "1f1ab8adb71d471d8275aa8ea845b3f6",
            "fcc197e6405d4735b3b0814b47eaa117",
            "4ab8ed2a8f2d4ae9ab693cd189ab4d93",
            "88cfe419588740b7869460b8c2577ef0",
            "200092c21ff94fc6a7dfd725cc3e8b08",
            "7386136591e84d278baf92622a374048",
            "205f8f35fa334537b57cf8f6ae94b1c2",
            "4c8554776b6c472b8866b3c4075c2236",
            "e2c9ce7ec591445e89d6411285aa1faa",
            "7829a938ee444c21a25b846225ab26a5",
            "77dd2515d90946d5ab8ff93ea3133301",
            "e07cbd99692c4ad78149891247ffeef4",
            "ca24572cd90c449ea02f14714ade3bf7",
            "33a04e852921458aad78559ce7a6eb6b",
            "676a74f60b714fc09efd307b53779fd0",
            "a73fc77343414b009994532c17e1cb76",
            "880ab975b55d43a89abdd41fdd068ad2",
            "7b62e26843244b26a55767e346fcfcd5",
            "3db872f42f1d4177b52e1acf4093a76b",
            "037a18b85c6044c49a192466f9c73841",
            "f9e4c4f9b9ab487bb5c025458adfc814",
            "a5faa2386d0a448595145305027b50af",
            "39fde7d817d0427bafa212b57fd0ec4c",
            "bf258e4b37a642a29ff00c6cf9cba4dc",
            "9c99543d3e864804aac8197a0572170e",
            "4bec82178e0240e4b0d57315661b6d4b",
            "555036579e664e12b3840bef41e82a41",
            "738927e36464465880cfe163f3ab1718",
            "f3652501fad941fda28b8470f76cbe92",
            "a9c8584bc14d41f2abb07df9912acf63",
            "17e67efcabf7498b91c8ca2b867ce15f",
            "7d99045dc1084e78a8e7505dbb905aa7",
            "08c81b2c40fe4aa0858b720533846a24",
            "5d5ee273ecd84af4abf7d787702d17db",
            "9d89ec2b64014bb7bc7697fd920a3d67",
            "232f7c0698ab4b79b6a6ecbb9f4602e7",
            "2bcfc8f564494aa898693c23a433dfe5",
            "6f8f4dfe73124938ae35c6aeef37bfa7",
            "40eef205b8b74511bd4273f745ac644e",
            "9f1c69c835bc497aaaad45fc6ba4ffe6",
            "698558d505364ce5bb18b80b658fdce6",
            "d4da917321cf4271bbc1c8e04bc8d284",
            "7d75b0305cff45e4a59fb1148231a1e7",
            "5a4912d5944f4350a1f4e8d4d5a70d5e",
            "ab2cc5bb304a45e49aa6182a4b71d422",
            "5a61210d14e24a2598e3f261566081fd",
            "cd77b302f1da46278759bb189d17d833",
            "febb1a8600b44550b7d20d9523a50412",
            "f56d03cce7e74f6c80e843f32a929527",
            "af8eec4b98ae471c9ed3c4f8c9557933",
            "b4e528c59ecb44afa74de195e73b963a",
            "4fc68c585f304dfab2cec12616888240",
            "aa213a7561c9468c8c53acd0ffedf995",
            "a4565975a7cc4aaab145411ffd3aaae1",
            "df4a8616ecce43719d49bec18ef6539c",
            "30a7a155157a4f77a85d23bc15e8c71f",
            "29f01ca1b822468fadddd2035f17c834",
            "78c5a642f4fb436d8ea75c2819f9c157",
            "a268467f27f4492e826ab6e84ef0d201",
            "f9b1387215d2474e98aea28ae1578932",
            "07cf6e3721a140b39bd1332a97787923",
            "d9d7edb849bd433d9df43aa14af01bac",
            "46a9a7cbce864ce99e5ea1d71d80dc63"
          ]
        },
        "id": "-PeISpTewOt_",
        "outputId": "7478bf60-0598-41a2-b89a-db58a58048dd"
      },
      "execution_count": 8,
      "outputs": [
        {
          "output_type": "stream",
          "name": "stderr",
          "text": [
            "/usr/local/lib/python3.11/dist-packages/huggingface_hub/utils/_auth.py:94: UserWarning: \n",
            "The secret `HF_TOKEN` does not exist in your Colab secrets.\n",
            "To authenticate with the Hugging Face Hub, create a token in your settings tab (https://huggingface.co/settings/tokens), set it as secret in your Google Colab and restart your session.\n",
            "You will be able to reuse this secret in all of your notebooks.\n",
            "Please note that authentication is recommended but still optional to access public models or datasets.\n",
            "  warnings.warn(\n"
          ]
        },
        {
          "output_type": "display_data",
          "data": {
            "text/plain": [
              "train-00000-of-00001.parquet:   0%|          | 0.00/98.0k [00:00<?, ?B/s]"
            ],
            "application/vnd.jupyter.widget-view+json": {
              "version_major": 2,
              "version_minor": 0,
              "model_id": "7eb21a3af04242569dbf301559415d5f"
            }
          },
          "metadata": {}
        },
        {
          "output_type": "display_data",
          "data": {
            "text/plain": [
              "validation-00000-of-00001.parquet:   0%|          | 0.00/21.4k [00:00<?, ?B/s]"
            ],
            "application/vnd.jupyter.widget-view+json": {
              "version_major": 2,
              "version_minor": 0,
              "model_id": "e2c9ce7ec591445e89d6411285aa1faa"
            }
          },
          "metadata": {}
        },
        {
          "output_type": "display_data",
          "data": {
            "text/plain": [
              "test-00000-of-00001.parquet:   0%|          | 0.00/24.5k [00:00<?, ?B/s]"
            ],
            "application/vnd.jupyter.widget-view+json": {
              "version_major": 2,
              "version_minor": 0,
              "model_id": "037a18b85c6044c49a192466f9c73841"
            }
          },
          "metadata": {}
        },
        {
          "output_type": "display_data",
          "data": {
            "text/plain": [
              "Generating train split:   0%|          | 0/2100 [00:00<?, ? examples/s]"
            ],
            "application/vnd.jupyter.widget-view+json": {
              "version_major": 2,
              "version_minor": 0,
              "model_id": "17e67efcabf7498b91c8ca2b867ce15f"
            }
          },
          "metadata": {}
        },
        {
          "output_type": "display_data",
          "data": {
            "text/plain": [
              "Generating validation split:   0%|          | 0/450 [00:00<?, ? examples/s]"
            ],
            "application/vnd.jupyter.widget-view+json": {
              "version_major": 2,
              "version_minor": 0,
              "model_id": "d4da917321cf4271bbc1c8e04bc8d284"
            }
          },
          "metadata": {}
        },
        {
          "output_type": "display_data",
          "data": {
            "text/plain": [
              "Generating test split:   0%|          | 0/450 [00:00<?, ? examples/s]"
            ],
            "application/vnd.jupyter.widget-view+json": {
              "version_major": 2,
              "version_minor": 0,
              "model_id": "aa213a7561c9468c8c53acd0ffedf995"
            }
          },
          "metadata": {}
        }
      ]
    },
    {
      "cell_type": "code",
      "source": [
        "model_path = \"google-bert/bert-base-uncased\"\n",
        "\n",
        "# model tokenizer\n",
        "tokenizer = AutoTokenizer.from_pretrained(model_path)\n",
        "\n",
        "# model\n",
        "id2label = {0: \"Safe\", 1: \"Not Safe\"}\n",
        "label2id = {\"Safe\":0, \"Not Safe\":1}\n",
        "model = AutoModelForSequenceClassification.from_pretrained(model_path,\n",
        "                                                           num_labels=2,\n",
        "                                                           id2label=id2label,\n",
        "                                                           label2id=label2id)"
      ],
      "metadata": {
        "colab": {
          "base_uri": "https://localhost:8080/",
          "height": 232,
          "referenced_widgets": [
            "3ec7b70e0fa845e2b23feec9c09a599d",
            "dc9a3850f5e842ada931f48ca3139856",
            "9268f990ec444dc8adff80710b7f08aa",
            "93e59d69ad17467da5b42bba584f55ba",
            "d27734608fbc4a78a692bff86f57fcc0",
            "ce1f71407d104fdd84f1f37a923b70a5",
            "6d455aa122f74a7e80bbe90e07ad2e31",
            "3deb3641c0d34bd59b727109ec4fc9e2",
            "78e3da38e0ce43579c4d4d795f812950",
            "e569edb9fb34482da1f6cac68de0b1cf",
            "d48e47b3884e477c8d5b3f3d2e40af04",
            "37c9edeca5b74815ad73bc22c3cd1074",
            "9d1ed9203cb34d36bac6433d25b1ba4b",
            "6f2d76b01ca94ab2b0d7a8a941f30928",
            "a587f6356d174006b686b1c650f5dcd1",
            "8a277acc7b964d3b996e71090c5fff21",
            "c7d810934c924ae5814c1ec58ace4e68",
            "3a3670e0ec094c0f8192e76684016527",
            "9d699aa54d1340019073af8460f7401f",
            "741ea2f926dd451bab3e16afbf49b209",
            "27b2589bf52e429f85c4ff66704a2c49",
            "97e6c731b8b54368af0292c9e1cab597",
            "28670da7d65f4bc399a3f1bf35aae791",
            "2a2587f6b53549e8b073ee94afefd08f",
            "4d16691b757f4254905ae1d85a5232a2",
            "4b627cbc990b42ada64bf249095fb2d9",
            "1e053671267f48d7b19b249dbf796455",
            "263c2fba5bf5486e98f48417d9915d0c",
            "ef1a4b75c9d14cc094c6b0b14b1506ac",
            "5f46a443faa54c049e053ef35304d32e",
            "c6b465c3fcdd4063b223324f5719493e",
            "885575bfddb04f91afcc660fc8614b98",
            "0f4c0e0611064273b234110c96a14129",
            "c718692c6c5d42bfa5073aa0ae3fc477",
            "7a3e9d07023e4289a80f7855c823ae16",
            "a498f054bdad458d88c5608d5c52a756",
            "557d824e39b440bf964dc49bc1db4d38",
            "8d4de499972d4fac8a98817d675cac44",
            "69be3dc954e3468ea061256ee084fc45",
            "c325a1bbf6434c2bad22eeb2066147d2",
            "3797c4b1c1ad46a585ef46800bc40c92",
            "b642182433fa4b35a7d4fc2c20bf70e5",
            "44b0949ff5e4456e8fb0e997336e538b",
            "502ab71fd37b4ff380e532bdfde1c21e",
            "762838d9cfb64779afe0c5ae24041a33",
            "d612a86f7ea64658871496daa4588cda",
            "43422bf60aa749699ca68242a1dcfec5",
            "3cc644028104466ab9c94cfd69be752d",
            "a3cf7c0ed68540bb902df832b52121db",
            "86db9e1397664360809b676df1057061",
            "4f62d798647c4a93b2f6cae79d4e1b62",
            "7e4166ec8cfa49bfb2fd4a6835eeb1ba",
            "4b6975b9b1984bdebd89be370da99bdb",
            "388330d3a0734d0a9029a0028545d65c",
            "a8fc05598014478bb01df841c26718f1"
          ]
        },
        "id": "IXAlgwOZwyVt",
        "outputId": "c6cbf9fb-1b0b-4b02-9746-4d66085b40ed"
      },
      "execution_count": 9,
      "outputs": [
        {
          "output_type": "display_data",
          "data": {
            "text/plain": [
              "tokenizer_config.json:   0%|          | 0.00/48.0 [00:00<?, ?B/s]"
            ],
            "application/vnd.jupyter.widget-view+json": {
              "version_major": 2,
              "version_minor": 0,
              "model_id": "3ec7b70e0fa845e2b23feec9c09a599d"
            }
          },
          "metadata": {}
        },
        {
          "output_type": "display_data",
          "data": {
            "text/plain": [
              "config.json:   0%|          | 0.00/570 [00:00<?, ?B/s]"
            ],
            "application/vnd.jupyter.widget-view+json": {
              "version_major": 2,
              "version_minor": 0,
              "model_id": "37c9edeca5b74815ad73bc22c3cd1074"
            }
          },
          "metadata": {}
        },
        {
          "output_type": "display_data",
          "data": {
            "text/plain": [
              "vocab.txt:   0%|          | 0.00/232k [00:00<?, ?B/s]"
            ],
            "application/vnd.jupyter.widget-view+json": {
              "version_major": 2,
              "version_minor": 0,
              "model_id": "28670da7d65f4bc399a3f1bf35aae791"
            }
          },
          "metadata": {}
        },
        {
          "output_type": "display_data",
          "data": {
            "text/plain": [
              "tokenizer.json:   0%|          | 0.00/466k [00:00<?, ?B/s]"
            ],
            "application/vnd.jupyter.widget-view+json": {
              "version_major": 2,
              "version_minor": 0,
              "model_id": "c718692c6c5d42bfa5073aa0ae3fc477"
            }
          },
          "metadata": {}
        },
        {
          "output_type": "display_data",
          "data": {
            "text/plain": [
              "model.safetensors:   0%|          | 0.00/440M [00:00<?, ?B/s]"
            ],
            "application/vnd.jupyter.widget-view+json": {
              "version_major": 2,
              "version_minor": 0,
              "model_id": "762838d9cfb64779afe0c5ae24041a33"
            }
          },
          "metadata": {}
        },
        {
          "output_type": "stream",
          "name": "stderr",
          "text": [
            "Some weights of BertForSequenceClassification were not initialized from the model checkpoint at google-bert/bert-base-uncased and are newly initialized: ['classifier.bias', 'classifier.weight']\n",
            "You should probably TRAIN this model on a down-stream task to be able to use it for predictions and inference.\n"
          ]
        }
      ]
    },
    {
      "cell_type": "code",
      "source": [
        "# freeze all base model parameters\n",
        "for name, param in model.base_model.named_parameters():  # model obj has base_model attribute and this attribute has named_parameters method\n",
        "    param.requires_grad = False\n",
        "# after running this the base model parameters are frozen, only top are trainable\n",
        "\n",
        "# unfreeze base model pooling layers\n",
        "for name, param in model.base_model.pooler.named_parameters():\n",
        "    if \"pooler\" in name:\n",
        "        param.requires_grad = True\n",
        "# we freeze all the model parameters except the last 4 layers"
      ],
      "metadata": {
        "id": "PG8ogYuOxxFv"
      },
      "execution_count": 12,
      "outputs": []
    },
    {
      "cell_type": "markdown",
      "source": [
        "data pre-processing"
      ],
      "metadata": {
        "id": "vG2V2DsrzC1z"
      }
    },
    {
      "cell_type": "code",
      "source": [
        "def preprocess_function(examples):\n",
        "    return tokenizer(examples[\"text\"], truncation=True)\n",
        "\n",
        "tokenized_data = dataset_dict.map(preprocess_function, batched=True)"
      ],
      "metadata": {
        "colab": {
          "base_uri": "https://localhost:8080/",
          "height": 113,
          "referenced_widgets": [
            "a3026ec3890943f88747080eb812ccdc",
            "3db585913cb4448e81a829338753bd03",
            "93b0241e4b2047078bf3ce6345830cfb",
            "bd7ef1d37d384c79898332e57a0ae81f",
            "c6394a99fcf34999b001b7696274cef8",
            "827e09a16c304a92b1af5ec1d1e9ab46",
            "0152e129ba694ad4ada67a88b8c7a962",
            "24d2f8d158bf4d808867cbd51ba2dbe8",
            "afd5a97591ff4433a8f23f07249499c2",
            "d73508ea5ce845c98035a3cd3e70e7ce",
            "c3efb7e7d79e478a8d5230a48e08075f",
            "d2090b745ade4d5087555f107f6597c4",
            "621f63321f46408c9ec9003d6e0bc684",
            "7760711029914cd89738bba9161fa338",
            "e62cabc037924447a792919a194db5a0",
            "ff1cd843fb364b2f8f304942e8304c1b",
            "64d8c91154014520b8d3ea7c473e8928",
            "8b9050848d244824b1904a5708864e5a",
            "8da9dd3e0c4b45658ce8a69667f7f314",
            "8fffb726e9e342d6b832f42f9077adc0",
            "f78616a76fcb48f6bdbbc91cdd27545b",
            "e9c98e3e970541c89b5ca7ca8df281bd",
            "bbc01eaf70d646359388db8f18aa44f7",
            "b5f66b80d3b04a87bab75a3ac6f9940b",
            "60b1169ec692475fa34a5ee5f68bde87",
            "2d60290b311f497d8acc3ea4c286536e",
            "4ccc22fe75004260bd572205c51b6e85",
            "bef9d05066994c4fa0172dda81ba74ec",
            "7ca475a33153478baa3ffdf8c959fd88",
            "ccc216c7977b43dd9e138f7c64ca6096",
            "de95d68a27b443ef86997377b76e03e3",
            "42c05e7dbb47449589c9657f852e4c66",
            "ce02b5d51ba640678d7d7f1324f37dfa"
          ]
        },
        "id": "uF2GmBNUyKah",
        "outputId": "11139b96-5bc7-4b95-ec0b-d3ec28bf9b49"
      },
      "execution_count": 13,
      "outputs": [
        {
          "output_type": "display_data",
          "data": {
            "text/plain": [
              "Map:   0%|          | 0/2100 [00:00<?, ? examples/s]"
            ],
            "application/vnd.jupyter.widget-view+json": {
              "version_major": 2,
              "version_minor": 0,
              "model_id": "a3026ec3890943f88747080eb812ccdc"
            }
          },
          "metadata": {}
        },
        {
          "output_type": "display_data",
          "data": {
            "text/plain": [
              "Map:   0%|          | 0/450 [00:00<?, ? examples/s]"
            ],
            "application/vnd.jupyter.widget-view+json": {
              "version_major": 2,
              "version_minor": 0,
              "model_id": "d2090b745ade4d5087555f107f6597c4"
            }
          },
          "metadata": {}
        },
        {
          "output_type": "display_data",
          "data": {
            "text/plain": [
              "Map:   0%|          | 0/450 [00:00<?, ? examples/s]"
            ],
            "application/vnd.jupyter.widget-view+json": {
              "version_major": 2,
              "version_minor": 0,
              "model_id": "bbc01eaf70d646359388db8f18aa44f7"
            }
          },
          "metadata": {}
        }
      ]
    },
    {
      "cell_type": "code",
      "source": [
        "# to ensure all the examples in a batch have a uniform length\n",
        "data_collator = DataCollatorWithPadding(tokenizer=tokenizer)"
      ],
      "metadata": {
        "id": "0RD4jlpMzRDT"
      },
      "execution_count": 15,
      "outputs": []
    },
    {
      "cell_type": "markdown",
      "source": [
        "define evaluation metrics"
      ],
      "metadata": {
        "id": "llz2W3gVznC-"
      }
    },
    {
      "cell_type": "code",
      "source": [
        "accuracy = evaluate.load(\"accuracy\")\n",
        "auc_score = evaluate.load(\"roc_auc\")\n",
        "\n",
        "\n",
        "# predictions will be between -1 and 1 while labels will be 0 or 1\n",
        "def compute_metrics(eval_pred):\n",
        "  predictions, labels = eval_pred\n",
        "  probabilities = np.exp(predictions)/np.exp(predictions).sum(-1, keepdims=True)\n",
        "  positive_class_;robs = probabilities[:,1]\n",
        "  auc = np.round(auc_score.compute(prediction_scores=positive_class_probs,references=labels)['roc_auc'],3)\n",
        "  predicted_classes = np.argmax(predictions, axis=1)\n",
        "  acc = np.round(accuracy.compute(predictions=predicted_classes, references=labels)['accuracy'],3)\n",
        "  return {\"accuracy\": acc, \"auc\": auc}"
      ],
      "metadata": {
        "colab": {
          "base_uri": "https://localhost:8080/",
          "height": 81,
          "referenced_widgets": [
            "528fa8969d424c71b0f71280e232f341",
            "03d0d04c74714b089da04938b53561a6",
            "7e01b3cc82db4e44a25342a48fe4829c",
            "016f1484cdaf432388375613f78be828",
            "93270399ea1a47aaa4c52f9c1d4af0ff",
            "326df62431f64cc680e56b62c12fdb1e",
            "4f9b524a1d444676860574f8d4ff78a9",
            "a44d8d78f3254841ae2518f9dea492a1",
            "85542bde5c0f42ad950db7a79a31cfe7",
            "b226499c92fe41258ed9c7a6989c7194",
            "1fd46bbf5fdf4ab297b327d4047b7beb",
            "fe661bc04d954821866109f87af44a68",
            "3138cdb791474cb5b30d92583df040dc",
            "62f4a2eb1075455d819ec6f5f248f9e0",
            "854a53dee408414a8ca9a0e6a6ac6e8b",
            "fe86a89ec9b84ab8bd23ad3d73668784",
            "16991ca4812240cbbaa39b1ace151d69",
            "ef5389ce6ce4432dbdd952a0e9865a8b",
            "c941c93da46d4d44bc36792db36b4e6e",
            "68eb17817d834236bb73eac820f393b8",
            "292145e8d0eb4ac6b8a46471693c91f3",
            "7080b979bdcc468faac7dd51c0cc00b3"
          ]
        },
        "id": "-wnjj4zVzWm_",
        "outputId": "a286c84d-62ed-4c54-f7e8-bfa7989b307e"
      },
      "execution_count": 16,
      "outputs": [
        {
          "output_type": "display_data",
          "data": {
            "text/plain": [
              "Downloading builder script:   0%|          | 0.00/4.20k [00:00<?, ?B/s]"
            ],
            "application/vnd.jupyter.widget-view+json": {
              "version_major": 2,
              "version_minor": 0,
              "model_id": "528fa8969d424c71b0f71280e232f341"
            }
          },
          "metadata": {}
        },
        {
          "output_type": "display_data",
          "data": {
            "text/plain": [
              "Downloading builder script:   0%|          | 0.00/9.54k [00:00<?, ?B/s]"
            ],
            "application/vnd.jupyter.widget-view+json": {
              "version_major": 2,
              "version_minor": 0,
              "model_id": "fe661bc04d954821866109f87af44a68"
            }
          },
          "metadata": {}
        }
      ]
    },
    {
      "cell_type": "code",
      "source": [
        "# hyperparameters\n",
        "lr = 2e-4\n",
        "batch_size=8\n",
        "num_epochs=10\n",
        "\n",
        "training_args = TrainingArguments(\n",
        "    output_dir=\"bert-phising-classifier_teacher\",\n",
        "    learning_rate=lr,\n",
        "    per_device_train_batch_size=batch_size,\n",
        "    per_device_eval_batch_size=batch_size,\n",
        "    num_train_epochs=num_epochs,\n",
        "    logging_strategy=\"epoch\",  # how often trainer will print training loss\n",
        "    eval_strategy=\"epoch\",    # how often trainer will print evaluation metrics\n",
        "    save_strategy=\"epoch\",   # model get saved at every epoch\n",
        "    load_best_model_at_end=True\n",
        ")"
      ],
      "metadata": {
        "id": "O2e48Yvx1A_U"
      },
      "execution_count": 18,
      "outputs": []
    },
    {
      "cell_type": "markdown",
      "source": [
        "Fine-tune Model"
      ],
      "metadata": {
        "id": "gm_ayoGh2LM5"
      }
    },
    {
      "cell_type": "code",
      "source": [
        "trainer = Trainer(\n",
        "    model=model,\n",
        "    args=training_args,\n",
        "    train_dataset=tokenized_data[\"train\"],\n",
        "    eval_dataset=tokenized_data[\"test\"],\n",
        "    tokenizer=tokenizer,\n",
        "    data_collator=data_collator,\n",
        "    compute_metrics=compute_metrics\n",
        ")\n",
        "\n",
        "trainer.train()"
      ],
      "metadata": {
        "id": "Wo7IFjlf1su2"
      },
      "execution_count": null,
      "outputs": []
    },
    {
      "cell_type": "code",
      "source": [
        "predictions = trainer.predict(tokenized_data[\"validation\"])\n",
        "\n",
        "logits = predictions.predictions\n",
        "labels = predictions.label_ids\n",
        "\n",
        "metrics = compute_metrics((logits, labels))\n",
        "print(metrics)\n",
        "\n",
        "# accuracy : 0.889, AUC : 0.946"
      ],
      "metadata": {
        "id": "iS9BZxBf2WsR"
      },
      "execution_count": null,
      "outputs": []
    }
  ]
}
