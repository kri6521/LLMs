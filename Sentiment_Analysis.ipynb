{
  "nbformat": 4,
  "nbformat_minor": 0,
  "metadata": {
    "colab": {
      "provenance": []
    },
    "kernelspec": {
      "name": "python3",
      "display_name": "Python 3"
    },
    "language_info": {
      "name": "python"
    }
  },
  "cells": [
    {
      "cell_type": "code",
      "execution_count": 1,
      "metadata": {
        "colab": {
          "base_uri": "https://localhost:8080/"
        },
        "id": "6xDdraPocubk",
        "outputId": "3e05cfcd-a636-4653-e5bf-0bc2ca9606e8"
      },
      "outputs": [
        {
          "output_type": "stream",
          "name": "stdout",
          "text": [
            "Requirement already satisfied: transformers in /usr/local/lib/python3.11/dist-packages (4.49.0)\n",
            "Requirement already satisfied: filelock in /usr/local/lib/python3.11/dist-packages (from transformers) (3.17.0)\n",
            "Requirement already satisfied: huggingface-hub<1.0,>=0.26.0 in /usr/local/lib/python3.11/dist-packages (from transformers) (0.28.1)\n",
            "Requirement already satisfied: numpy>=1.17 in /usr/local/lib/python3.11/dist-packages (from transformers) (1.26.4)\n",
            "Requirement already satisfied: packaging>=20.0 in /usr/local/lib/python3.11/dist-packages (from transformers) (24.2)\n",
            "Requirement already satisfied: pyyaml>=5.1 in /usr/local/lib/python3.11/dist-packages (from transformers) (6.0.2)\n",
            "Requirement already satisfied: regex!=2019.12.17 in /usr/local/lib/python3.11/dist-packages (from transformers) (2024.11.6)\n",
            "Requirement already satisfied: requests in /usr/local/lib/python3.11/dist-packages (from transformers) (2.32.3)\n",
            "Requirement already satisfied: tokenizers<0.22,>=0.21 in /usr/local/lib/python3.11/dist-packages (from transformers) (0.21.0)\n",
            "Requirement already satisfied: safetensors>=0.4.1 in /usr/local/lib/python3.11/dist-packages (from transformers) (0.5.3)\n",
            "Requirement already satisfied: tqdm>=4.27 in /usr/local/lib/python3.11/dist-packages (from transformers) (4.67.1)\n",
            "Requirement already satisfied: fsspec>=2023.5.0 in /usr/local/lib/python3.11/dist-packages (from huggingface-hub<1.0,>=0.26.0->transformers) (2024.10.0)\n",
            "Requirement already satisfied: typing-extensions>=3.7.4.3 in /usr/local/lib/python3.11/dist-packages (from huggingface-hub<1.0,>=0.26.0->transformers) (4.12.2)\n",
            "Requirement already satisfied: charset-normalizer<4,>=2 in /usr/local/lib/python3.11/dist-packages (from requests->transformers) (3.4.1)\n",
            "Requirement already satisfied: idna<4,>=2.5 in /usr/local/lib/python3.11/dist-packages (from requests->transformers) (3.10)\n",
            "Requirement already satisfied: urllib3<3,>=1.21.1 in /usr/local/lib/python3.11/dist-packages (from requests->transformers) (2.3.0)\n",
            "Requirement already satisfied: certifi>=2017.4.17 in /usr/local/lib/python3.11/dist-packages (from requests->transformers) (2025.1.31)\n"
          ]
        },
        {
          "output_type": "stream",
          "name": "stderr",
          "text": [
            "/usr/local/lib/python3.11/dist-packages/huggingface_hub/utils/_auth.py:94: UserWarning: \n",
            "The secret `HF_TOKEN` does not exist in your Colab secrets.\n",
            "To authenticate with the Hugging Face Hub, create a token in your settings tab (https://huggingface.co/settings/tokens), set it as secret in your Google Colab and restart your session.\n",
            "You will be able to reuse this secret in all of your notebooks.\n",
            "Please note that authentication is recommended but still optional to access public models or datasets.\n",
            "  warnings.warn(\n",
            "Device set to use cpu\n"
          ]
        }
      ],
      "source": [
        "!pip install transformers\n",
        "from transformers import pipeline\n",
        "\n",
        "# classifier\n",
        "classifier = pipeline(task=\"sentiment-analysis\", model=\"distilbert-base-uncased-finetuned-sst-2-english\")"
      ]
    },
    {
      "cell_type": "code",
      "source": [
        "classifier(\"hate this\")"
      ],
      "metadata": {
        "colab": {
          "base_uri": "https://localhost:8080/"
        },
        "id": "NbROlMltdDJn",
        "outputId": "1daf561c-785f-4258-83d1-df333103508b"
      },
      "execution_count": 2,
      "outputs": [
        {
          "output_type": "execute_result",
          "data": {
            "text/plain": [
              "[{'label': 'NEGATIVE', 'score': 0.9997244477272034}]"
            ]
          },
          "metadata": {},
          "execution_count": 2
        }
      ]
    },
    {
      "cell_type": "markdown",
      "source": [
        "Batch Prediction"
      ],
      "metadata": {
        "id": "kMhSq_Q7daKh"
      }
    },
    {
      "cell_type": "code",
      "source": [
        "text_list = [\"This is great\",\\\n",
        "             \"Thanks for nothing\",\\\n",
        "             \"You've got to work on your face\",\\\n",
        "             \"You're beautiful, never change\"]\n",
        "\n",
        "classifier(text_list)"
      ],
      "metadata": {
        "colab": {
          "base_uri": "https://localhost:8080/"
        },
        "id": "OPddJ-HhdY_W",
        "outputId": "1a4755f7-8ffd-4ca6-b5b4-2bbdc4350fc7"
      },
      "execution_count": 3,
      "outputs": [
        {
          "output_type": "execute_result",
          "data": {
            "text/plain": [
              "[{'label': 'POSITIVE', 'score': 0.9998785257339478},\n",
              " {'label': 'POSITIVE', 'score': 0.9680057168006897},\n",
              " {'label': 'NEGATIVE', 'score': 0.8776122331619263},\n",
              " {'label': 'POSITIVE', 'score': 0.9996949434280396}]"
            ]
          },
          "metadata": {},
          "execution_count": 3
        }
      ]
    },
    {
      "cell_type": "markdown",
      "source": [
        "Multiple targets"
      ],
      "metadata": {
        "id": "tydzBXlXez6k"
      }
    },
    {
      "cell_type": "code",
      "source": [
        "# if there are multiple target labels, we can return them all\n",
        "classifier = pipeline(task=\"text-classification\", model=\"SamLowe/roberta-base-go_emotions\", top_k=None)"
      ],
      "metadata": {
        "colab": {
          "base_uri": "https://localhost:8080/"
        },
        "id": "BdafDVwGekEN",
        "outputId": "be92305f-fe0a-44d7-bb6a-d1332ba09f9b"
      },
      "execution_count": 4,
      "outputs": [
        {
          "output_type": "stream",
          "name": "stderr",
          "text": [
            "Device set to use cpu\n"
          ]
        }
      ]
    },
    {
      "cell_type": "code",
      "source": [
        "classifier(text_list[0])"
      ],
      "metadata": {
        "colab": {
          "base_uri": "https://localhost:8080/"
        },
        "id": "1c3R7l_tff6j",
        "outputId": "dc69d8d0-4560-48c5-8bd4-0eda55d66a0d"
      },
      "execution_count": 5,
      "outputs": [
        {
          "output_type": "execute_result",
          "data": {
            "text/plain": [
              "[[{'label': 'admiration', 'score': 0.9526104927062988},\n",
              "  {'label': 'approval', 'score': 0.030472073704004288},\n",
              "  {'label': 'neutral', 'score': 0.015236238949000835},\n",
              "  {'label': 'excitement', 'score': 0.0060637635178864},\n",
              "  {'label': 'gratitude', 'score': 0.005296194460242987},\n",
              "  {'label': 'joy', 'score': 0.0044752066023647785},\n",
              "  {'label': 'curiosity', 'score': 0.004322327207773924},\n",
              "  {'label': 'realization', 'score': 0.004089601803570986},\n",
              "  {'label': 'optimism', 'score': 0.0040772161446511745},\n",
              "  {'label': 'disapproval', 'score': 0.004076561890542507},\n",
              "  {'label': 'annoyance', 'score': 0.0035287393257021904},\n",
              "  {'label': 'surprise', 'score': 0.002973065711557865},\n",
              "  {'label': 'disappointment', 'score': 0.002734639449045062},\n",
              "  {'label': 'love', 'score': 0.00269457814283669},\n",
              "  {'label': 'amusement', 'score': 0.0024867462925612926},\n",
              "  {'label': 'confusion', 'score': 0.0023607409093528986},\n",
              "  {'label': 'pride', 'score': 0.0021013361401855946},\n",
              "  {'label': 'sadness', 'score': 0.0017730530817061663},\n",
              "  {'label': 'anger', 'score': 0.0017196922563016415},\n",
              "  {'label': 'caring', 'score': 0.0013670074986293912},\n",
              "  {'label': 'desire', 'score': 0.0010478716576471925},\n",
              "  {'label': 'disgust', 'score': 0.0009689931757748127},\n",
              "  {'label': 'fear', 'score': 0.0005249775713309646},\n",
              "  {'label': 'relief', 'score': 0.00048621135647408664},\n",
              "  {'label': 'embarrassment', 'score': 0.00034175041946582496},\n",
              "  {'label': 'grief', 'score': 0.00033891951898112893},\n",
              "  {'label': 'remorse', 'score': 0.0002780948707368225},\n",
              "  {'label': 'nervousness', 'score': 0.00020788467372767627}]]"
            ]
          },
          "metadata": {},
          "execution_count": 5
        }
      ]
    },
    {
      "cell_type": "markdown",
      "source": [
        "Summarization"
      ],
      "metadata": {
        "id": "u8QEFEUFfyGz"
      }
    },
    {
      "cell_type": "code",
      "source": [
        "summarizer = pipeline(\"summarization\",model=\"facebook/bart-large-cnn\")"
      ],
      "metadata": {
        "colab": {
          "base_uri": "https://localhost:8080/"
        },
        "id": "w8uXDdkYfn0J",
        "outputId": "5c22da02-4565-4065-b013-0326ce24f378"
      },
      "execution_count": 6,
      "outputs": [
        {
          "output_type": "stream",
          "name": "stderr",
          "text": [
            "Device set to use cpu\n"
          ]
        }
      ]
    },
    {
      "cell_type": "code",
      "source": [
        "text = \"\"\"\n",
        "Hugging Face is an AI company that has become a major hub for open-source machine learning.\n",
        "Their platform has 3 major elements which allow users to access and share machine learning resources.\n",
        "First, is their rapidly growing repository of pre-trained open-source machine learning models for things such as natural language processing (NLP), computer vision, and more.\n",
        "Second, is their library of datasets for training machine learning models for almost any task.\n",
        "Third, and finally, is Spaces which is a collection of open-source ML apps.\n",
        "\n",
        "The power of these resources is that they are community generated, which leverages all the benefits of open source i.e. cost-free, wide diversity of tools, high quality resources, and rapid pace of innovation.\n",
        "While these make building powerful ML projects more accessible than before, there is another key element of the Hugging Face ecosystem—their Transformers library.\n",
        "\"\"\"\n",
        "summarized_text = summarizer(text, min_length=5, max_length=140)[0]['summary_text']\n",
        "summarized_text"
      ],
      "metadata": {
        "colab": {
          "base_uri": "https://localhost:8080/",
          "height": 71
        },
        "id": "MoGH8Zyuf-B4",
        "outputId": "3fea433f-dc27-4a5a-c9fc-82c4fda84a35"
      },
      "execution_count": 7,
      "outputs": [
        {
          "output_type": "execute_result",
          "data": {
            "text/plain": [
              "'Hugging Face is an AI company that has become a major hub for open-source machine learning. They have 3 major elements which allow users to access and share machine learning resources.'"
            ],
            "application/vnd.google.colaboratory.intrinsic+json": {
              "type": "string"
            }
          },
          "metadata": {},
          "execution_count": 7
        }
      ]
    },
    {
      "cell_type": "markdown",
      "source": [
        "summarization + sentiment analysis"
      ],
      "metadata": {
        "id": "xsrD75ZKgiaW"
      }
    },
    {
      "cell_type": "code",
      "source": [
        "classifier(summarized_text)"
      ],
      "metadata": {
        "colab": {
          "base_uri": "https://localhost:8080/"
        },
        "id": "SLWvY06UgaSR",
        "outputId": "7381f42e-7589-445e-9ac2-16066a04dd23"
      },
      "execution_count": 8,
      "outputs": [
        {
          "output_type": "execute_result",
          "data": {
            "text/plain": [
              "[[{'label': 'neutral', 'score': 0.9101783633232117},\n",
              "  {'label': 'approval', 'score': 0.08781366050243378},\n",
              "  {'label': 'realization', 'score': 0.023256275802850723},\n",
              "  {'label': 'annoyance', 'score': 0.006623789668083191},\n",
              "  {'label': 'admiration', 'score': 0.0049810768105089664},\n",
              "  {'label': 'disapproval', 'score': 0.004730117507278919},\n",
              "  {'label': 'optimism', 'score': 0.0033590728417038918},\n",
              "  {'label': 'disappointment', 'score': 0.002619005972519517},\n",
              "  {'label': 'confusion', 'score': 0.001953981351107359},\n",
              "  {'label': 'excitement', 'score': 0.0012417052639648318},\n",
              "  {'label': 'disgust', 'score': 0.0011407802812755108},\n",
              "  {'label': 'joy', 'score': 0.0010540119837969542},\n",
              "  {'label': 'amusement', 'score': 0.0009572373819537461},\n",
              "  {'label': 'love', 'score': 0.0008871065219864249},\n",
              "  {'label': 'desire', 'score': 0.0008553271181881428},\n",
              "  {'label': 'curiosity', 'score': 0.0008261064067482948},\n",
              "  {'label': 'anger', 'score': 0.0007336385897360742},\n",
              "  {'label': 'caring', 'score': 0.0006971130496822298},\n",
              "  {'label': 'sadness', 'score': 0.0006702444516122341},\n",
              "  {'label': 'gratitude', 'score': 0.0006645721150562167},\n",
              "  {'label': 'surprise', 'score': 0.0005773778539150953},\n",
              "  {'label': 'relief', 'score': 0.00047890585847198963},\n",
              "  {'label': 'fear', 'score': 0.0004512510495260358},\n",
              "  {'label': 'pride', 'score': 0.00035174324875697494},\n",
              "  {'label': 'embarrassment', 'score': 0.0003261527162976563},\n",
              "  {'label': 'remorse', 'score': 0.0001947577839018777},\n",
              "  {'label': 'nervousness', 'score': 0.00018521495803724974},\n",
              "  {'label': 'grief', 'score': 0.00016037889872677624}]]"
            ]
          },
          "metadata": {},
          "execution_count": 8
        }
      ]
    },
    {
      "cell_type": "markdown",
      "source": [
        "Text Generation"
      ],
      "metadata": {
        "id": "ytnoKVROgr03"
      }
    },
    {
      "cell_type": "code",
      "source": [
        "chatbot = pipeline(task=\"text-generation\", model=\"facebook/blenderbot-400M-distill\")"
      ],
      "metadata": {
        "colab": {
          "base_uri": "https://localhost:8080/"
        },
        "id": "_sOVOaHggrY-",
        "outputId": "b735aad8-113a-4204-f5d2-48e6cc65ef03"
      },
      "execution_count": 9,
      "outputs": [
        {
          "output_type": "stream",
          "name": "stderr",
          "text": [
            "Device set to use cpu\n"
          ]
        }
      ]
    },
    {
      "cell_type": "code",
      "source": [
        "response = chatbot(\"Hi, I'm Kriti, how are you?\", max_length=50)\n",
        "print(response[0][\"generated_text\"])"
      ],
      "metadata": {
        "colab": {
          "base_uri": "https://localhost:8080/"
        },
        "id": "H9KjDqvigoJK",
        "outputId": "5f755d16-50b1-4207-a2fa-d89395be7d78"
      },
      "execution_count": 10,
      "outputs": [
        {
          "output_type": "stream",
          "name": "stderr",
          "text": [
            "Truncation was not explicitly activated but `max_length` is provided a specific value, please use `truncation=True` to explicitly truncate examples to max length. Defaulting to 'longest_first' truncation strategy. If you encode pairs of sequences (GLUE-style) with the tokenizer you can select this strategy more precisely by providing a specific strategy to `truncation`.\n"
          ]
        },
        {
          "output_type": "stream",
          "name": "stdout",
          "text": [
            "Hi, I'm Kriti, how are you? I'm okay, I guess.\n"
          ]
        }
      ]
    },
    {
      "cell_type": "markdown",
      "source": [
        "Chatbot UI with Gradio"
      ],
      "metadata": {
        "id": "kIuqBL2dkGiE"
      }
    },
    {
      "cell_type": "code",
      "source": [
        "!pip install gradio\n",
        "import gradio as gr"
      ],
      "metadata": {
        "colab": {
          "base_uri": "https://localhost:8080/"
        },
        "id": "PWOMRkUYg-wD",
        "outputId": "a0d2c536-8e6d-4bbd-bef8-5cc9dc403979"
      },
      "execution_count": 11,
      "outputs": [
        {
          "output_type": "stream",
          "name": "stdout",
          "text": [
            "Requirement already satisfied: gradio in /usr/local/lib/python3.11/dist-packages (5.20.1)\n",
            "Requirement already satisfied: aiofiles<24.0,>=22.0 in /usr/local/lib/python3.11/dist-packages (from gradio) (23.2.1)\n",
            "Requirement already satisfied: anyio<5.0,>=3.0 in /usr/local/lib/python3.11/dist-packages (from gradio) (3.7.1)\n",
            "Requirement already satisfied: fastapi<1.0,>=0.115.2 in /usr/local/lib/python3.11/dist-packages (from gradio) (0.115.11)\n",
            "Requirement already satisfied: ffmpy in /usr/local/lib/python3.11/dist-packages (from gradio) (0.5.0)\n",
            "Requirement already satisfied: gradio-client==1.7.2 in /usr/local/lib/python3.11/dist-packages (from gradio) (1.7.2)\n",
            "Requirement already satisfied: groovy~=0.1 in /usr/local/lib/python3.11/dist-packages (from gradio) (0.1.2)\n",
            "Requirement already satisfied: httpx>=0.24.1 in /usr/local/lib/python3.11/dist-packages (from gradio) (0.28.1)\n",
            "Requirement already satisfied: huggingface-hub>=0.28.1 in /usr/local/lib/python3.11/dist-packages (from gradio) (0.28.1)\n",
            "Requirement already satisfied: jinja2<4.0 in /usr/local/lib/python3.11/dist-packages (from gradio) (3.1.5)\n",
            "Requirement already satisfied: markupsafe~=2.0 in /usr/local/lib/python3.11/dist-packages (from gradio) (2.1.5)\n",
            "Requirement already satisfied: numpy<3.0,>=1.0 in /usr/local/lib/python3.11/dist-packages (from gradio) (1.26.4)\n",
            "Requirement already satisfied: orjson~=3.0 in /usr/local/lib/python3.11/dist-packages (from gradio) (3.10.15)\n",
            "Requirement already satisfied: packaging in /usr/local/lib/python3.11/dist-packages (from gradio) (24.2)\n",
            "Requirement already satisfied: pandas<3.0,>=1.0 in /usr/local/lib/python3.11/dist-packages (from gradio) (2.2.2)\n",
            "Requirement already satisfied: pillow<12.0,>=8.0 in /usr/local/lib/python3.11/dist-packages (from gradio) (11.1.0)\n",
            "Requirement already satisfied: pydantic>=2.0 in /usr/local/lib/python3.11/dist-packages (from gradio) (2.10.6)\n",
            "Requirement already satisfied: pydub in /usr/local/lib/python3.11/dist-packages (from gradio) (0.25.1)\n",
            "Requirement already satisfied: python-multipart>=0.0.18 in /usr/local/lib/python3.11/dist-packages (from gradio) (0.0.20)\n",
            "Requirement already satisfied: pyyaml<7.0,>=5.0 in /usr/local/lib/python3.11/dist-packages (from gradio) (6.0.2)\n",
            "Requirement already satisfied: ruff>=0.9.3 in /usr/local/lib/python3.11/dist-packages (from gradio) (0.9.10)\n",
            "Requirement already satisfied: safehttpx<0.2.0,>=0.1.6 in /usr/local/lib/python3.11/dist-packages (from gradio) (0.1.6)\n",
            "Requirement already satisfied: semantic-version~=2.0 in /usr/local/lib/python3.11/dist-packages (from gradio) (2.10.0)\n",
            "Requirement already satisfied: starlette<1.0,>=0.40.0 in /usr/local/lib/python3.11/dist-packages (from gradio) (0.46.1)\n",
            "Requirement already satisfied: tomlkit<0.14.0,>=0.12.0 in /usr/local/lib/python3.11/dist-packages (from gradio) (0.13.2)\n",
            "Requirement already satisfied: typer<1.0,>=0.12 in /usr/local/lib/python3.11/dist-packages (from gradio) (0.15.2)\n",
            "Requirement already satisfied: typing-extensions~=4.0 in /usr/local/lib/python3.11/dist-packages (from gradio) (4.12.2)\n",
            "Requirement already satisfied: uvicorn>=0.14.0 in /usr/local/lib/python3.11/dist-packages (from gradio) (0.34.0)\n",
            "Requirement already satisfied: fsspec in /usr/local/lib/python3.11/dist-packages (from gradio-client==1.7.2->gradio) (2024.10.0)\n",
            "Requirement already satisfied: websockets<16.0,>=10.0 in /usr/local/lib/python3.11/dist-packages (from gradio-client==1.7.2->gradio) (14.2)\n",
            "Requirement already satisfied: idna>=2.8 in /usr/local/lib/python3.11/dist-packages (from anyio<5.0,>=3.0->gradio) (3.10)\n",
            "Requirement already satisfied: sniffio>=1.1 in /usr/local/lib/python3.11/dist-packages (from anyio<5.0,>=3.0->gradio) (1.3.1)\n",
            "Requirement already satisfied: certifi in /usr/local/lib/python3.11/dist-packages (from httpx>=0.24.1->gradio) (2025.1.31)\n",
            "Requirement already satisfied: httpcore==1.* in /usr/local/lib/python3.11/dist-packages (from httpx>=0.24.1->gradio) (1.0.7)\n",
            "Requirement already satisfied: h11<0.15,>=0.13 in /usr/local/lib/python3.11/dist-packages (from httpcore==1.*->httpx>=0.24.1->gradio) (0.14.0)\n",
            "Requirement already satisfied: filelock in /usr/local/lib/python3.11/dist-packages (from huggingface-hub>=0.28.1->gradio) (3.17.0)\n",
            "Requirement already satisfied: requests in /usr/local/lib/python3.11/dist-packages (from huggingface-hub>=0.28.1->gradio) (2.32.3)\n",
            "Requirement already satisfied: tqdm>=4.42.1 in /usr/local/lib/python3.11/dist-packages (from huggingface-hub>=0.28.1->gradio) (4.67.1)\n",
            "Requirement already satisfied: python-dateutil>=2.8.2 in /usr/local/lib/python3.11/dist-packages (from pandas<3.0,>=1.0->gradio) (2.8.2)\n",
            "Requirement already satisfied: pytz>=2020.1 in /usr/local/lib/python3.11/dist-packages (from pandas<3.0,>=1.0->gradio) (2025.1)\n",
            "Requirement already satisfied: tzdata>=2022.7 in /usr/local/lib/python3.11/dist-packages (from pandas<3.0,>=1.0->gradio) (2025.1)\n",
            "Requirement already satisfied: annotated-types>=0.6.0 in /usr/local/lib/python3.11/dist-packages (from pydantic>=2.0->gradio) (0.7.0)\n",
            "Requirement already satisfied: pydantic-core==2.27.2 in /usr/local/lib/python3.11/dist-packages (from pydantic>=2.0->gradio) (2.27.2)\n",
            "Requirement already satisfied: click>=8.0.0 in /usr/local/lib/python3.11/dist-packages (from typer<1.0,>=0.12->gradio) (8.1.8)\n",
            "Requirement already satisfied: shellingham>=1.3.0 in /usr/local/lib/python3.11/dist-packages (from typer<1.0,>=0.12->gradio) (1.5.4)\n",
            "Requirement already satisfied: rich>=10.11.0 in /usr/local/lib/python3.11/dist-packages (from typer<1.0,>=0.12->gradio) (13.9.4)\n",
            "Requirement already satisfied: six>=1.5 in /usr/local/lib/python3.11/dist-packages (from python-dateutil>=2.8.2->pandas<3.0,>=1.0->gradio) (1.17.0)\n",
            "Requirement already satisfied: markdown-it-py>=2.2.0 in /usr/local/lib/python3.11/dist-packages (from rich>=10.11.0->typer<1.0,>=0.12->gradio) (3.0.0)\n",
            "Requirement already satisfied: pygments<3.0.0,>=2.13.0 in /usr/local/lib/python3.11/dist-packages (from rich>=10.11.0->typer<1.0,>=0.12->gradio) (2.18.0)\n",
            "Requirement already satisfied: charset-normalizer<4,>=2 in /usr/local/lib/python3.11/dist-packages (from requests->huggingface-hub>=0.28.1->gradio) (3.4.1)\n",
            "Requirement already satisfied: urllib3<3,>=1.21.1 in /usr/local/lib/python3.11/dist-packages (from requests->huggingface-hub>=0.28.1->gradio) (2.3.0)\n",
            "Requirement already satisfied: mdurl~=0.1 in /usr/local/lib/python3.11/dist-packages (from markdown-it-py>=2.2.0->rich>=10.11.0->typer<1.0,>=0.12->gradio) (0.1.2)\n"
          ]
        }
      ]
    },
    {
      "cell_type": "code",
      "source": [
        "message_list = []\n",
        "response_list = []\n",
        "\n",
        "# def vanilla_chatbot(message, history):\n",
        "#     response = chatbot(prompt, message, max_length=50)[0][\"generated_text\"]\n",
        "#     message_list.append(message)\n",
        "#     response_list.append(response)\n",
        "#     return response\n",
        "\n",
        "def vanilla_chatbot(message, history):\n",
        "    if history is None:\n",
        "        history = []\n",
        "    # Build a prompt that includes previous turns\n",
        "    prompt = \"\"\n",
        "    for user_msg, bot_msg in history:\n",
        "        prompt += f\"User: {user_msg}\\nBot: {bot_msg}\\n\"\n",
        "    prompt += f\"User: {message}\\nBot: \"\n",
        "\n",
        "    # Generate a response using a longer max_length and adjusted parameters\n",
        "    response = chatbot(prompt, max_length=150, temperature=0.7, top_p=0.9)[0][\"generated_text\"]\n",
        "\n",
        "    # Append the latest exchange to the history\n",
        "    history.append((message, response))\n",
        "    return history, history\n",
        "\n",
        "demo_chatbot = gr.ChatInterface(vanilla_chatbot, title=\"vanilla chatbot\", description=\"enter text to start chatting\")\n",
        "demo_chatbot.launch()"
      ],
      "metadata": {
        "colab": {
          "base_uri": "https://localhost:8080/",
          "height": 681
        },
        "id": "R1PvA9E3kVJ2",
        "outputId": "6ca5c301-2077-4225-ccd6-fca5e5a3364e"
      },
      "execution_count": 12,
      "outputs": [
        {
          "output_type": "stream",
          "name": "stderr",
          "text": [
            "/usr/local/lib/python3.11/dist-packages/gradio/chat_interface.py:334: UserWarning: The 'tuples' format for chatbot messages is deprecated and will be removed in a future version of Gradio. Please set type='messages' instead, which uses openai-style 'role' and 'content' keys.\n",
            "  self.chatbot = Chatbot(\n"
          ]
        },
        {
          "output_type": "stream",
          "name": "stdout",
          "text": [
            "Running Gradio in a Colab notebook requires sharing enabled. Automatically setting `share=True` (you can turn this off by setting `share=False` in `launch()` explicitly).\n",
            "\n",
            "Colab notebook detected. To show errors in colab notebook, set debug=True in launch()\n",
            "* Running on public URL: https://fe436d109f7b0d42a2.gradio.live\n",
            "\n",
            "This share link expires in 72 hours. For free permanent hosting and GPU upgrades, run `gradio deploy` from the terminal in the working directory to deploy to Hugging Face Spaces (https://huggingface.co/spaces)\n"
          ]
        },
        {
          "output_type": "display_data",
          "data": {
            "text/plain": [
              "<IPython.core.display.HTML object>"
            ],
            "text/html": [
              "<div><iframe src=\"https://fe436d109f7b0d42a2.gradio.live\" width=\"100%\" height=\"500\" allow=\"autoplay; camera; microphone; clipboard-read; clipboard-write;\" frameborder=\"0\" allowfullscreen></iframe></div>"
            ]
          },
          "metadata": {}
        },
        {
          "output_type": "execute_result",
          "data": {
            "text/plain": []
          },
          "metadata": {},
          "execution_count": 12
        }
      ]
    },
    {
      "cell_type": "code",
      "source": [],
      "metadata": {
        "id": "Ls8lhy_EmWvd"
      },
      "execution_count": 12,
      "outputs": []
    }
  ]
}